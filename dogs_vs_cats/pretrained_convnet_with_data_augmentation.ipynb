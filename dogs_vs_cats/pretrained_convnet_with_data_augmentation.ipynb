{
 "cells": [
  {
   "cell_type": "code",
   "execution_count": 1,
   "id": "proud-number",
   "metadata": {},
   "outputs": [],
   "source": [
    "import tensorflow as tf\n",
    "physical_devices = tf.config.experimental.list_physical_devices('GPU')\n",
    "tf.config.experimental.set_memory_growth(physical_devices[0], True)"
   ]
  },
  {
   "cell_type": "code",
   "execution_count": 2,
   "id": "native-impression",
   "metadata": {},
   "outputs": [],
   "source": [
    "from keras.applications import VGG16\n",
    "\n",
    "conv_base = VGG16(weights='imagenet',\n",
    "                 include_top=False,\n",
    "                 input_shape=(100, 100, 3))"
   ]
  },
  {
   "cell_type": "code",
   "execution_count": 3,
   "id": "convertible-breathing",
   "metadata": {},
   "outputs": [],
   "source": [
    "from keras import models, layers, optimizers\n",
    "\n",
    "model = models.Sequential()\n",
    "model.add(conv_base)\n",
    "model.add(layers.Flatten())\n",
    "model.add(layers.Dense(256, activation='relu'))\n",
    "model.add(layers.Dense(1, activation='sigmoid'))\n",
    "\n",
    "model.compile(optimizer=optimizers.RMSprop(lr=2e-5),\n",
    "              loss='binary_crossentropy',\n",
    "              metrics=['acc'])"
   ]
  },
  {
   "cell_type": "code",
   "execution_count": 4,
   "id": "fundamental-security",
   "metadata": {},
   "outputs": [],
   "source": [
    "conv_base.trainable=False"
   ]
  },
  {
   "cell_type": "code",
   "execution_count": 3,
   "id": "classical-inside",
   "metadata": {},
   "outputs": [
    {
     "name": "stdout",
     "output_type": "stream",
     "text": [
      "Found 2000 images belonging to 2 classes.\n",
      "Found 1000 images belonging to 2 classes.\n"
     ]
    }
   ],
   "source": [
    "from keras.preprocessing.image import ImageDataGenerator\n",
    "import os, shutil\n",
    "\n",
    "os.environ['TF_FORCE_GPU_ALLOW_GROWTH'] = 'true'\n",
    "\n",
    "\n",
    "base_dir = '/home/arnav/anaconda3/envs/deeplearning/Getting started with deep learning/dogs_vs_cats/dataset'\n",
    "\n",
    "train_dir = os.path.join(base_dir, 'train')\n",
    "test_dir = os.path.join(base_dir, 'test')\n",
    "validation_dir = os.path.join(base_dir, 'validation')\n",
    "\n",
    "train_datagen = ImageDataGenerator(\n",
    "    rescale=1/255,\n",
    "    rotation_range=40,\n",
    "    width_shift_range=0.2,\n",
    "    height_shift_range=0.2,\n",
    "    shear_range=0.2,\n",
    "    zoom_range=0.2,\n",
    "    horizontal_flip=True,\n",
    "    fill_mode='nearest'\n",
    ")\n",
    "test_datagen = ImageDataGenerator(rescale=1/255)\n",
    "\n",
    "train_generator = train_datagen.flow_from_directory(\n",
    "    train_dir,\n",
    "    target_size=(100, 100),\n",
    "    batch_size=20,\n",
    "    class_mode='binary')\n",
    "\n",
    "validation_generator = train_datagen.flow_from_directory(\n",
    "    validation_dir,\n",
    "    target_size=(100, 100),\n",
    "    batch_size=20,\n",
    "    class_mode='binary')"
   ]
  },
  {
   "cell_type": "code",
   "execution_count": 6,
   "id": "amino-specific",
   "metadata": {},
   "outputs": [],
   "source": [
    "model.compile(optimizer=optimizers.RMSprop(lr=2e-5),\n",
    "              loss='binary_crossentropy',\n",
    "              metrics=['acc'])"
   ]
  },
  {
   "cell_type": "code",
   "execution_count": 7,
   "id": "advisory-england",
   "metadata": {},
   "outputs": [
    {
     "name": "stdout",
     "output_type": "stream",
     "text": [
      "Model: \"sequential\"\n",
      "_________________________________________________________________\n",
      "Layer (type)                 Output Shape              Param #   \n",
      "=================================================================\n",
      "vgg16 (Model)                (None, 3, 3, 512)         14714688  \n",
      "_________________________________________________________________\n",
      "flatten (Flatten)            (None, 4608)              0         \n",
      "_________________________________________________________________\n",
      "dense (Dense)                (None, 256)               1179904   \n",
      "_________________________________________________________________\n",
      "dense_1 (Dense)              (None, 1)                 257       \n",
      "=================================================================\n",
      "Total params: 15,894,849\n",
      "Trainable params: 1,180,161\n",
      "Non-trainable params: 14,714,688\n",
      "_________________________________________________________________\n"
     ]
    }
   ],
   "source": [
    "model.summary()"
   ]
  },
  {
   "cell_type": "code",
   "execution_count": 8,
   "id": "tired-treasure",
   "metadata": {},
   "outputs": [
    {
     "name": "stdout",
     "output_type": "stream",
     "text": [
      "WARNING:tensorflow:From <ipython-input-8-42619c58cf8f>:5: Model.fit_generator (from tensorflow.python.keras.engine.training) is deprecated and will be removed in a future version.\n",
      "Instructions for updating:\n",
      "Please use Model.fit, which supports generators.\n",
      "Epoch 1/30\n",
      "100/100 [==============================] - 12s 115ms/step - loss: 0.6286 - acc: 0.6430 - val_loss: 0.5842 - val_acc: 0.7030\n",
      "Epoch 2/30\n",
      "100/100 [==============================] - 14s 136ms/step - loss: 0.5580 - acc: 0.7230 - val_loss: 0.5382 - val_acc: 0.7490\n",
      "Epoch 3/30\n",
      "100/100 [==============================] - 21s 213ms/step - loss: 0.5170 - acc: 0.7580 - val_loss: 0.5155 - val_acc: 0.7370\n",
      "Epoch 4/30\n",
      "100/100 [==============================] - 21s 215ms/step - loss: 0.4833 - acc: 0.7750 - val_loss: 0.4869 - val_acc: 0.7740\n",
      "Epoch 5/30\n",
      "100/100 [==============================] - 15s 149ms/step - loss: 0.4712 - acc: 0.7715 - val_loss: 0.4722 - val_acc: 0.7740\n",
      "Epoch 6/30\n",
      "100/100 [==============================] - 20s 205ms/step - loss: 0.4511 - acc: 0.7860 - val_loss: 0.4873 - val_acc: 0.7560\n",
      "Epoch 7/30\n",
      "100/100 [==============================] - 13s 132ms/step - loss: 0.4427 - acc: 0.7990 - val_loss: 0.4608 - val_acc: 0.7790\n",
      "Epoch 8/30\n",
      "100/100 [==============================] - 14s 145ms/step - loss: 0.4243 - acc: 0.8030 - val_loss: 0.4491 - val_acc: 0.7870\n",
      "Epoch 9/30\n",
      "100/100 [==============================] - 20s 195ms/step - loss: 0.4213 - acc: 0.8050 - val_loss: 0.4379 - val_acc: 0.7890\n",
      "Epoch 10/30\n",
      "100/100 [==============================] - 14s 136ms/step - loss: 0.4185 - acc: 0.8045 - val_loss: 0.4354 - val_acc: 0.8000\n",
      "Epoch 11/30\n",
      "100/100 [==============================] - 12s 124ms/step - loss: 0.4200 - acc: 0.8030 - val_loss: 0.4597 - val_acc: 0.7780\n",
      "Epoch 12/30\n",
      "100/100 [==============================] - 12s 118ms/step - loss: 0.4194 - acc: 0.8005 - val_loss: 0.4356 - val_acc: 0.8050\n",
      "Epoch 13/30\n",
      "100/100 [==============================] - 12s 117ms/step - loss: 0.4000 - acc: 0.8155 - val_loss: 0.4349 - val_acc: 0.7900\n",
      "Epoch 14/30\n",
      "100/100 [==============================] - 13s 127ms/step - loss: 0.4085 - acc: 0.8130 - val_loss: 0.4163 - val_acc: 0.8050\n",
      "Epoch 15/30\n",
      "100/100 [==============================] - 12s 123ms/step - loss: 0.4019 - acc: 0.8245 - val_loss: 0.4329 - val_acc: 0.7870\n",
      "Epoch 16/30\n",
      "100/100 [==============================] - 12s 117ms/step - loss: 0.3896 - acc: 0.8205 - val_loss: 0.4415 - val_acc: 0.7780\n",
      "Epoch 17/30\n",
      "100/100 [==============================] - 17s 170ms/step - loss: 0.3862 - acc: 0.8275 - val_loss: 0.4259 - val_acc: 0.8120\n",
      "Epoch 18/30\n",
      "100/100 [==============================] - 17s 170ms/step - loss: 0.3820 - acc: 0.8310 - val_loss: 0.4086 - val_acc: 0.8100\n",
      "Epoch 19/30\n",
      "100/100 [==============================] - 16s 164ms/step - loss: 0.3889 - acc: 0.8270 - val_loss: 0.4231 - val_acc: 0.8000\n",
      "Epoch 20/30\n",
      "100/100 [==============================] - 13s 134ms/step - loss: 0.3954 - acc: 0.8240 - val_loss: 0.4136 - val_acc: 0.8110\n",
      "Epoch 21/30\n",
      "100/100 [==============================] - 16s 157ms/step - loss: 0.3857 - acc: 0.8145 - val_loss: 0.4228 - val_acc: 0.8000\n",
      "Epoch 22/30\n",
      "100/100 [==============================] - 22s 222ms/step - loss: 0.3820 - acc: 0.8230 - val_loss: 0.4582 - val_acc: 0.7750\n",
      "Epoch 23/30\n",
      "100/100 [==============================] - 13s 133ms/step - loss: 0.3906 - acc: 0.8350 - val_loss: 0.4334 - val_acc: 0.7750\n",
      "Epoch 24/30\n",
      "100/100 [==============================] - 15s 154ms/step - loss: 0.3807 - acc: 0.8295 - val_loss: 0.4195 - val_acc: 0.7980\n",
      "Epoch 25/30\n",
      "100/100 [==============================] - 17s 170ms/step - loss: 0.3668 - acc: 0.8380 - val_loss: 0.4215 - val_acc: 0.7990\n",
      "Epoch 26/30\n",
      "100/100 [==============================] - 17s 170ms/step - loss: 0.3756 - acc: 0.8285 - val_loss: 0.4229 - val_acc: 0.8000\n",
      "Epoch 27/30\n",
      "100/100 [==============================] - 15s 153ms/step - loss: 0.3841 - acc: 0.8280 - val_loss: 0.4137 - val_acc: 0.8130\n",
      "Epoch 28/30\n",
      "100/100 [==============================] - 13s 135ms/step - loss: 0.3757 - acc: 0.8280 - val_loss: 0.4078 - val_acc: 0.8150\n",
      "Epoch 29/30\n",
      "100/100 [==============================] - 17s 169ms/step - loss: 0.3789 - acc: 0.8330 - val_loss: 0.4431 - val_acc: 0.7880\n",
      "Epoch 30/30\n",
      "100/100 [==============================] - 17s 170ms/step - loss: 0.3678 - acc: 0.8365 - val_loss: 0.4390 - val_acc: 0.7810\n"
     ]
    }
   ],
   "source": [
    "history = model.fit_generator(train_generator,\n",
    "                              steps_per_epoch=100,\n",
    "                              epochs=30,\n",
    "                              validation_data=validation_generator,\n",
    "                             validation_steps=50)"
   ]
  },
  {
   "cell_type": "code",
   "execution_count": 9,
   "id": "egyptian-string",
   "metadata": {},
   "outputs": [],
   "source": [
    "model.save('cats_and_dogs_small_4.h5')"
   ]
  },
  {
   "cell_type": "code",
   "execution_count": 10,
   "id": "widespread-assembly",
   "metadata": {},
   "outputs": [
    {
     "data": {
      "image/png": "[encoded data removed]",
      "text/plain": [
       "<Figure size 432x288 with 1 Axes>"
      ]
     },
     "metadata": {
      "needs_background": "light"
     },
     "output_type": "display_data"
    },
    {
     "data": {
      "image/png": "[encoded data removed]",
      "text/plain": [
       "<Figure size 432x288 with 1 Axes>"
      ]
     },
     "metadata": {
      "needs_background": "light"
     },
     "output_type": "display_data"
    }
   ],
   "source": [
    "import matplotlib.pyplot as plt\n",
    "\n",
    "acc = history.history['acc']\n",
    "val_acc = history.history['val_acc']\n",
    "loss = history.history['loss']\n",
    "val_loss = history.history['val_loss']\n",
    "\n",
    "epochs = range(1, len(acc)+1)\n",
    "\n",
    "plt.plot(epochs, acc, 'bo', label='Training accuracy')\n",
    "plt.plot(epochs, val_acc, 'b', label=\"Validation accuracy\")\n",
    "plt.title('Training and Validation accuracy')\n",
    "plt.legend()\n",
    "\n",
    "plt.figure()\n",
    "\n",
    "plt.plot(epochs, loss, 'bo', label='Training loss')\n",
    "plt.plot(epochs, val_loss, 'b', label=\"Validation loss\")\n",
    "plt.title('Training and Validation loss')\n",
    "plt.legend()\n",
    "\n",
    "plt.show()"
   ]
  },
  {
   "cell_type": "code",
   "execution_count": 12,
   "id": "requested-calculator",
   "metadata": {},
   "outputs": [
    {
     "name": "stdout",
     "output_type": "stream",
     "text": [
      "Model: \"vgg16\"\n",
      "_________________________________________________________________\n",
      "Layer (type)                 Output Shape              Param #   \n",
      "=================================================================\n",
      "input_1 (InputLayer)         [(None, 100, 100, 3)]     0         \n",
      "_________________________________________________________________\n",
      "block1_conv1 (Conv2D)        (None, 100, 100, 64)      1792      \n",
      "_________________________________________________________________\n",
      "block1_conv2 (Conv2D)        (None, 100, 100, 64)      36928     \n",
      "_________________________________________________________________\n",
      "block1_pool (MaxPooling2D)   (None, 50, 50, 64)        0         \n",
      "_________________________________________________________________\n",
      "block2_conv1 (Conv2D)        (None, 50, 50, 128)       73856     \n",
      "_________________________________________________________________\n",
      "block2_conv2 (Conv2D)        (None, 50, 50, 128)       147584    \n",
      "_________________________________________________________________\n",
      "block2_pool (MaxPooling2D)   (None, 25, 25, 128)       0         \n",
      "_________________________________________________________________\n",
      "block3_conv1 (Conv2D)        (None, 25, 25, 256)       295168    \n",
      "_________________________________________________________________\n",
      "block3_conv2 (Conv2D)        (None, 25, 25, 256)       590080    \n",
      "_________________________________________________________________\n",
      "block3_conv3 (Conv2D)        (None, 25, 25, 256)       590080    \n",
      "_________________________________________________________________\n",
      "block3_pool (MaxPooling2D)   (None, 12, 12, 256)       0         \n",
      "_________________________________________________________________\n",
      "block4_conv1 (Conv2D)        (None, 12, 12, 512)       1180160   \n",
      "_________________________________________________________________\n",
      "block4_conv2 (Conv2D)        (None, 12, 12, 512)       2359808   \n",
      "_________________________________________________________________\n",
      "block4_conv3 (Conv2D)        (None, 12, 12, 512)       2359808   \n",
      "_________________________________________________________________\n",
      "block4_pool (MaxPooling2D)   (None, 6, 6, 512)         0         \n",
      "_________________________________________________________________\n",
      "block5_conv1 (Conv2D)        (None, 6, 6, 512)         2359808   \n",
      "_________________________________________________________________\n",
      "block5_conv2 (Conv2D)        (None, 6, 6, 512)         2359808   \n",
      "_________________________________________________________________\n",
      "block5_conv3 (Conv2D)        (None, 6, 6, 512)         2359808   \n",
      "_________________________________________________________________\n",
      "block5_pool (MaxPooling2D)   (None, 3, 3, 512)         0         \n",
      "=================================================================\n",
      "Total params: 14,714,688\n",
      "Trainable params: 0\n",
      "Non-trainable params: 14,714,688\n",
      "_________________________________________________________________\n"
     ]
    }
   ],
   "source": [
    "conv_base.summary()"
   ]
  },
  {
   "cell_type": "code",
   "execution_count": 14,
   "id": "ranging-hierarchy",
   "metadata": {},
   "outputs": [],
   "source": [
    "#fine tuning\n",
    "\n",
    "conv_base.trainable=True\n",
    "\n",
    "set_trainable=False\n",
    "for layer in conv_base.layers :\n",
    "    if layer.name=='block5_conv1' :\n",
    "        set_trainable=True\n",
    "    if set_trainable :\n",
    "        layer.trainable=True\n",
    "    else :\n",
    "        layer.trainable=False"
   ]
  },
  {
   "cell_type": "code",
   "execution_count": 7,
   "id": "returning-sewing",
   "metadata": {},
   "outputs": [],
   "source": [
    "# from keras import models, optimizers\n",
    "# model = models.load_model('cats_and_dogs_small_4.h5')"
   ]
  },
  {
   "cell_type": "code",
   "execution_count": 8,
   "id": "elegant-details",
   "metadata": {},
   "outputs": [],
   "source": [
    "model.compile(optimizer=optimizers.RMSprop(lr=1e-5),\n",
    "              loss='binary_crossentropy',\n",
    "              metrics=['acc'])"
   ]
  },
  {
   "cell_type": "code",
   "execution_count": 9,
   "id": "absolute-perfume",
   "metadata": {},
   "outputs": [
    {
     "name": "stdout",
     "output_type": "stream",
     "text": [
      "Epoch 1/30\n",
      "100/100 [==============================] - 19s 189ms/step - loss: 0.3583 - acc: 0.8395 - val_loss: 0.4159 - val_acc: 0.8090\n",
      "Epoch 2/30\n",
      "100/100 [==============================] - 24s 236ms/step - loss: 0.3524 - acc: 0.8355 - val_loss: 0.4126 - val_acc: 0.8110\n",
      "Epoch 3/30\n",
      "100/100 [==============================] - 20s 201ms/step - loss: 0.3526 - acc: 0.8385 - val_loss: 0.4096 - val_acc: 0.8040\n",
      "Epoch 4/30\n",
      "100/100 [==============================] - 15s 146ms/step - loss: 0.3716 - acc: 0.8295 - val_loss: 0.4342 - val_acc: 0.7980\n",
      "Epoch 5/30\n",
      "100/100 [==============================] - 20s 200ms/step - loss: 0.3612 - acc: 0.8315 - val_loss: 0.3841 - val_acc: 0.8130\n",
      "Epoch 6/30\n",
      "100/100 [==============================] - 17s 173ms/step - loss: 0.3578 - acc: 0.8365 - val_loss: 0.4094 - val_acc: 0.8190\n",
      "Epoch 7/30\n",
      "100/100 [==============================] - 21s 211ms/step - loss: 0.3674 - acc: 0.8300 - val_loss: 0.3933 - val_acc: 0.8150\n",
      "Epoch 8/30\n",
      "100/100 [==============================] - 17s 174ms/step - loss: 0.3708 - acc: 0.8245 - val_loss: 0.3981 - val_acc: 0.8180\n",
      "Epoch 9/30\n",
      "100/100 [==============================] - 19s 192ms/step - loss: 0.3487 - acc: 0.8485 - val_loss: 0.4205 - val_acc: 0.8030\n",
      "Epoch 10/30\n",
      "100/100 [==============================] - 16s 157ms/step - loss: 0.3757 - acc: 0.8240 - val_loss: 0.4226 - val_acc: 0.8060\n",
      "Epoch 11/30\n",
      "100/100 [==============================] - 13s 135ms/step - loss: 0.3677 - acc: 0.8380 - val_loss: 0.3999 - val_acc: 0.8060\n",
      "Epoch 12/30\n",
      "100/100 [==============================] - 22s 221ms/step - loss: 0.3522 - acc: 0.8395 - val_loss: 0.4488 - val_acc: 0.7840\n",
      "Epoch 13/30\n",
      "100/100 [==============================] - 21s 208ms/step - loss: 0.3646 - acc: 0.8435 - val_loss: 0.3736 - val_acc: 0.8310\n",
      "Epoch 14/30\n",
      "100/100 [==============================] - 22s 215ms/step - loss: 0.3640 - acc: 0.8345 - val_loss: 0.3933 - val_acc: 0.8120\n",
      "Epoch 15/30\n",
      "100/100 [==============================] - 20s 198ms/step - loss: 0.3576 - acc: 0.8275 - val_loss: 0.4183 - val_acc: 0.8100\n",
      "Epoch 16/30\n",
      "100/100 [==============================] - 21s 214ms/step - loss: 0.3475 - acc: 0.8485 - val_loss: 0.3913 - val_acc: 0.8240\n",
      "Epoch 17/30\n",
      "100/100 [==============================] - 24s 242ms/step - loss: 0.3597 - acc: 0.8325 - val_loss: 0.3793 - val_acc: 0.8180\n",
      "Epoch 18/30\n",
      "100/100 [==============================] - 24s 241ms/step - loss: 0.3582 - acc: 0.8415 - val_loss: 0.4197 - val_acc: 0.8000\n",
      "Epoch 19/30\n",
      "100/100 [==============================] - 17s 170ms/step - loss: 0.3521 - acc: 0.8465 - val_loss: 0.4026 - val_acc: 0.8180\n",
      "Epoch 20/30\n",
      "100/100 [==============================] - 20s 200ms/step - loss: 0.3422 - acc: 0.8535 - val_loss: 0.4103 - val_acc: 0.8080\n",
      "Epoch 21/30\n",
      "100/100 [==============================] - 15s 154ms/step - loss: 0.3538 - acc: 0.8415 - val_loss: 0.4317 - val_acc: 0.8090\n",
      "Epoch 22/30\n",
      "100/100 [==============================] - 17s 170ms/step - loss: 0.3371 - acc: 0.8460 - val_loss: 0.4078 - val_acc: 0.8190\n",
      "Epoch 23/30\n",
      "100/100 [==============================] - 18s 175ms/step - loss: 0.3495 - acc: 0.8425 - val_loss: 0.4036 - val_acc: 0.8040\n",
      "Epoch 24/30\n",
      "100/100 [==============================] - 20s 202ms/step - loss: 0.3584 - acc: 0.8355 - val_loss: 0.4438 - val_acc: 0.7970\n",
      "Epoch 25/30\n",
      "100/100 [==============================] - 19s 185ms/step - loss: 0.3428 - acc: 0.8485 - val_loss: 0.4055 - val_acc: 0.8040\n",
      "Epoch 26/30\n",
      "100/100 [==============================] - 17s 174ms/step - loss: 0.3507 - acc: 0.8420 - val_loss: 0.3760 - val_acc: 0.8260\n",
      "Epoch 27/30\n",
      "100/100 [==============================] - 18s 177ms/step - loss: 0.3461 - acc: 0.8440 - val_loss: 0.4454 - val_acc: 0.7940\n",
      "Epoch 28/30\n",
      "100/100 [==============================] - 12s 119ms/step - loss: 0.3440 - acc: 0.8460 - val_loss: 0.3781 - val_acc: 0.8240\n",
      "Epoch 29/30\n",
      "100/100 [==============================] - 11s 110ms/step - loss: 0.3517 - acc: 0.8445 - val_loss: 0.4160 - val_acc: 0.8160\n",
      "Epoch 30/30\n",
      "100/100 [==============================] - 11s 109ms/step - loss: 0.3500 - acc: 0.8390 - val_loss: 0.3969 - val_acc: 0.8150\n"
     ]
    }
   ],
   "source": [
    "history = model.fit(train_generator,\n",
    "                    steps_per_epoch=100,\n",
    "                    epochs=30,\n",
    "                    validation_data=validation_generator,\n",
    "                    validation_steps=50)"
   ]
  },
  {
   "cell_type": "code",
   "execution_count": 15,
   "id": "optional-think",
   "metadata": {},
   "outputs": [],
   "source": [
    "model.save('cats_and_dogs_small_5.h5')"
   ]
  },
  {
   "cell_type": "code",
   "execution_count": 10,
   "id": "corresponding-concentrate",
   "metadata": {},
   "outputs": [
    {
     "data": {
      "image/png": "[encoded data removed]",
      "text/plain": [
       "<Figure size 432x288 with 1 Axes>"
      ]
     },
     "metadata": {
      "needs_background": "light"
     },
     "output_type": "display_data"
    },
    {
     "data": {
      "image/png": "[encoded data removed]",
      "text/plain": [
       "<Figure size 432x288 with 1 Axes>"
      ]
     },
     "metadata": {
      "needs_background": "light"
     },
     "output_type": "display_data"
    }
   ],
   "source": [
    "import matplotlib.pyplot as plt\n",
    "\n",
    "acc = history.history['acc']\n",
    "val_acc = history.history['val_acc']\n",
    "loss = history.history['loss']\n",
    "val_loss = history.history['val_loss']\n",
    "\n",
    "epochs = range(1, len(acc)+1)\n",
    "\n",
    "plt.plot(epochs, acc, 'bo', label='Training accuracy')\n",
    "plt.plot(epochs, val_acc, 'b', label=\"Validation accuracy\")\n",
    "plt.title('Training and Validation accuracy')\n",
    "plt.legend()\n",
    "\n",
    "plt.figure()\n",
    "\n",
    "plt.plot(epochs, loss, 'bo', label='Training loss')\n",
    "plt.plot(epochs, val_loss, 'b', label=\"Validation loss\")\n",
    "plt.title('Training and Validation loss')\n",
    "plt.legend()\n",
    "\n",
    "plt.show()"
   ]
  },
  {
   "cell_type": "code",
   "execution_count": 16,
   "id": "nervous-instruction",
   "metadata": {},
   "outputs": [
    {
     "name": "stdout",
     "output_type": "stream",
     "text": [
      "Found 1000 images belonging to 2 classes.\n",
      "WARNING:tensorflow:From <ipython-input-16-c5236672fee3>:6: Model.evaluate_generator (from tensorflow.python.keras.engine.training) is deprecated and will be removed in a future version.\n",
      "Instructions for updating:\n",
      "Please use Model.evaluate, which supports generators.\n",
      "test_acc: 0.8610000014305115\n"
     ]
    }
   ],
   "source": [
    "test_generator = test_datagen.flow_from_directory(test_dir,\n",
    "                                                 target_size=(100, 100),\n",
    "                                                 batch_size=20,\n",
    "                                                 class_mode='binary')\n",
    "\n",
    "test_loss, test_acc = model.evaluate_generator(test_generator, steps=50)\n",
    "print('test_acc:', test_acc)"
   ]
  }
 ],
 "metadata": {
  "kernelspec": {
   "display_name": "deeplearning",
   "language": "python",
   "name": "deeplearning"
  },
  "language_info": {
   "codemirror_mode": {
    "name": "ipython",
    "version": 3
   },
   "file_extension": ".py",
   "mimetype": "text/x-python",
   "name": "python",
   "nbconvert_exporter": "python",
   "pygments_lexer": "ipython3",
   "version": "3.7.9"
  }
 },
 "nbformat": 4,
 "nbformat_minor": 5
}
