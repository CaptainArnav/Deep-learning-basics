{
 "cells": [
  {
   "cell_type": "code",
   "execution_count": 21,
   "id": "patient-exploration",
   "metadata": {},
   "outputs": [],
   "source": [
    "import tensorflow as tf\n",
    "physical_devices = tf.config.experimental.list_physical_devices('GPU')\n",
    "tf.config.experimental.set_memory_growth(physical_devices[0], True)"
   ]
  },
  {
   "cell_type": "code",
   "execution_count": 22,
   "id": "welsh-young",
   "metadata": {},
   "outputs": [],
   "source": [
    "from keras import models, layers"
   ]
  },
  {
   "cell_type": "code",
   "execution_count": 23,
   "id": "equipped-gross",
   "metadata": {},
   "outputs": [],
   "source": [
    "model = models.Sequential()\n",
    "model.add(layers.Conv2D(32, (3, 3), activation='relu', input_shape = (150, 150, 3)))\n",
    "model.add(layers.MaxPooling2D((2, 2)))\n",
    "model.add(layers.Conv2D(128, (3, 3), activation='relu'))\n",
    "model.add(layers.MaxPooling2D((2, 2)))\n",
    "model.add(layers.Conv2D(128, (3, 3), activation='relu'))\n",
    "model.add(layers.MaxPooling2D((2, 2)))\n",
    "model.add(layers.Flatten())\n",
    "model.add(layers.Dense(512, activation='relu'))\n",
    "model.add(layers.Dense(1, activation='sigmoid'))"
   ]
  },
  {
   "cell_type": "code",
   "execution_count": 24,
   "id": "immune-reputation",
   "metadata": {},
   "outputs": [],
   "source": [
    "from keras import optimizers\n",
    "\n",
    "model.compile(optimizer=optimizers.RMSprop(lr=1e-4), loss='binary_crossentropy', metrics=['acc'])"
   ]
  },
  {
   "cell_type": "code",
   "execution_count": 25,
   "id": "future-intro",
   "metadata": {},
   "outputs": [
    {
     "name": "stdout",
     "output_type": "stream",
     "text": [
      "Found 2000 images belonging to 2 classes.\n",
      "Found 1000 images belonging to 2 classes.\n"
     ]
    }
   ],
   "source": [
    "from keras.preprocessing.image import ImageDataGenerator\n",
    "import os, shutil\n",
    "\n",
    "os.environ['TF_FORCE_GPU_ALLOW_GROWTH'] = 'true'\n",
    "\n",
    "original_train_dataset_dir = '/home/arnav/Downloads/dogs_vs_cats/train/train'\n",
    "original_test_dataset_dir = '/home/arnav/Downloads/dogs_vs_cats/test/test'\n",
    "\n",
    "base_dir = '/home/arnav/anaconda3/envs/deeplearning/Getting started with deep learning/dogs_vs_cats/dataset'\n",
    "\n",
    "train_dir = os.path.join(base_dir, 'train')\n",
    "test_dir = os.path.join(base_dir, 'test')\n",
    "validation_dir = os.path.join(base_dir, 'validation')\n",
    "\n",
    "train_datagen = ImageDataGenerator(rescale=1/255)\n",
    "test_datagen = ImageDataGenerator(rescale=1/255)\n",
    "\n",
    "train_generator = train_datagen.flow_from_directory(\n",
    "    train_dir,\n",
    "    target_size=(150, 150),\n",
    "    batch_size=20,\n",
    "    class_mode='binary')\n",
    "\n",
    "validation_generator = train_datagen.flow_from_directory(\n",
    "    validation_dir,\n",
    "    target_size=(150, 150),\n",
    "    batch_size=20,\n",
    "    class_mode='binary')"
   ]
  },
  {
   "cell_type": "code",
   "execution_count": 6,
   "id": "stretch-cookbook",
   "metadata": {},
   "outputs": [
    {
     "name": "stdout",
     "output_type": "stream",
     "text": [
      "Epoch 1/30\n",
      "100/100 [==============================] - 6s 63ms/step - loss: 0.6853 - acc: 0.5545 - val_loss: 0.6489 - val_acc: 0.6117\n",
      "Epoch 2/30\n",
      "100/100 [==============================] - 6s 62ms/step - loss: 0.6130 - acc: 0.6700 - val_loss: 0.6349 - val_acc: 0.6300\n",
      "Epoch 3/30\n",
      "100/100 [==============================] - 6s 62ms/step - loss: 0.5596 - acc: 0.7155 - val_loss: 0.6151 - val_acc: 0.6517\n",
      "Epoch 4/30\n",
      "100/100 [==============================] - 6s 63ms/step - loss: 0.5039 - acc: 0.7565 - val_loss: 0.5946 - val_acc: 0.6767\n",
      "Epoch 5/30\n",
      "100/100 [==============================] - 6s 63ms/step - loss: 0.4636 - acc: 0.7835 - val_loss: 0.5633 - val_acc: 0.7267\n",
      "Epoch 6/30\n",
      "100/100 [==============================] - 6s 63ms/step - loss: 0.4211 - acc: 0.8080 - val_loss: 0.5908 - val_acc: 0.7117\n",
      "Epoch 7/30\n",
      "100/100 [==============================] - 6s 63ms/step - loss: 0.3769 - acc: 0.8375 - val_loss: 0.5627 - val_acc: 0.7150\n",
      "Epoch 8/30\n",
      "100/100 [==============================] - 6s 63ms/step - loss: 0.3415 - acc: 0.8500 - val_loss: 0.5595 - val_acc: 0.7550\n",
      "Epoch 9/30\n",
      "100/100 [==============================] - 6s 63ms/step - loss: 0.3067 - acc: 0.8755 - val_loss: 0.6401 - val_acc: 0.6867\n",
      "Epoch 10/30\n",
      "100/100 [==============================] - 6s 63ms/step - loss: 0.2637 - acc: 0.8980 - val_loss: 0.6721 - val_acc: 0.6883\n",
      "Epoch 11/30\n",
      "100/100 [==============================] - 6s 63ms/step - loss: 0.2328 - acc: 0.9100 - val_loss: 0.5977 - val_acc: 0.7317\n",
      "Epoch 12/30\n",
      "100/100 [==============================] - 6s 63ms/step - loss: 0.1962 - acc: 0.9285 - val_loss: 0.8113 - val_acc: 0.6733\n",
      "Epoch 13/30\n",
      "100/100 [==============================] - 6s 63ms/step - loss: 0.1661 - acc: 0.9425 - val_loss: 0.6609 - val_acc: 0.7450\n",
      "Epoch 14/30\n",
      "100/100 [==============================] - 6s 63ms/step - loss: 0.1338 - acc: 0.9570 - val_loss: 0.7534 - val_acc: 0.7383\n",
      "Epoch 15/30\n",
      "100/100 [==============================] - 6s 64ms/step - loss: 0.1080 - acc: 0.9725 - val_loss: 0.7928 - val_acc: 0.7333\n",
      "Epoch 16/30\n",
      "100/100 [==============================] - 6s 64ms/step - loss: 0.0918 - acc: 0.9770 - val_loss: 0.7852 - val_acc: 0.7450\n",
      "Epoch 17/30\n",
      "100/100 [==============================] - 6s 63ms/step - loss: 0.0669 - acc: 0.9820 - val_loss: 1.1053 - val_acc: 0.6933\n",
      "Epoch 18/30\n",
      "100/100 [==============================] - 6s 63ms/step - loss: 0.0513 - acc: 0.9885 - val_loss: 0.9296 - val_acc: 0.7050\n",
      "Epoch 19/30\n",
      "100/100 [==============================] - 6s 64ms/step - loss: 0.0440 - acc: 0.9900 - val_loss: 0.9826 - val_acc: 0.7050\n",
      "Epoch 20/30\n",
      "100/100 [==============================] - 6s 63ms/step - loss: 0.0333 - acc: 0.9920 - val_loss: 1.2231 - val_acc: 0.7283\n",
      "Epoch 21/30\n",
      "100/100 [==============================] - 6s 63ms/step - loss: 0.0324 - acc: 0.9910 - val_loss: 1.0075 - val_acc: 0.7300\n",
      "Epoch 22/30\n",
      "100/100 [==============================] - 6s 64ms/step - loss: 0.0207 - acc: 0.9955 - val_loss: 1.2789 - val_acc: 0.7033\n",
      "Epoch 23/30\n",
      "100/100 [==============================] - 6s 64ms/step - loss: 0.0236 - acc: 0.9940 - val_loss: 1.3026 - val_acc: 0.7333\n",
      "Epoch 24/30\n",
      "100/100 [==============================] - 6s 64ms/step - loss: 0.0193 - acc: 0.9955 - val_loss: 1.4279 - val_acc: 0.7117\n",
      "Epoch 25/30\n",
      "100/100 [==============================] - 6s 63ms/step - loss: 0.0118 - acc: 0.9970 - val_loss: 1.2944 - val_acc: 0.7133\n",
      "Epoch 26/30\n",
      "100/100 [==============================] - 6s 64ms/step - loss: 0.0096 - acc: 0.9980 - val_loss: 1.3299 - val_acc: 0.7167\n",
      "Epoch 27/30\n",
      "100/100 [==============================] - 6s 63ms/step - loss: 0.0103 - acc: 0.9970 - val_loss: 1.2700 - val_acc: 0.7383\n",
      "Epoch 28/30\n",
      "100/100 [==============================] - 6s 63ms/step - loss: 0.0063 - acc: 0.9975 - val_loss: 1.7250 - val_acc: 0.7033\n",
      "Epoch 29/30\n",
      "100/100 [==============================] - 6s 64ms/step - loss: 0.0100 - acc: 0.9975 - val_loss: 1.7599 - val_acc: 0.6983\n",
      "Epoch 30/30\n",
      "100/100 [==============================] - 6s 64ms/step - loss: 0.0151 - acc: 0.9950 - val_loss: 1.7502 - val_acc: 0.7000\n"
     ]
    }
   ],
   "source": [
    "history = model.fit(\n",
    "    train_generator, \n",
    "    steps_per_epoch=100,\n",
    "    epochs=30,\n",
    "    validation_data=validation_generator,\n",
    "    validation_steps=30)"
   ]
  },
  {
   "cell_type": "code",
   "execution_count": 7,
   "id": "ethical-attendance",
   "metadata": {},
   "outputs": [],
   "source": [
    "model.save('cats_and_dogs_small_1.h5')"
   ]
  },
  {
   "cell_type": "code",
   "execution_count": 26,
   "id": "healthy-wisconsin",
   "metadata": {
    "scrolled": true
   },
   "outputs": [
    {
     "ename": "NameError",
     "evalue": "name 'history' is not defined",
     "output_type": "error",
     "traceback": [
      "\u001b[0;31m---------------------------------------------------------------------------\u001b[0m",
      "\u001b[0;31mNameError\u001b[0m                                 Traceback (most recent call last)",
      "\u001b[0;32m<ipython-input-26-34540bca8193>\u001b[0m in \u001b[0;36m<module>\u001b[0;34m\u001b[0m\n\u001b[1;32m      1\u001b[0m \u001b[0;32mimport\u001b[0m \u001b[0mmatplotlib\u001b[0m\u001b[0;34m.\u001b[0m\u001b[0mpyplot\u001b[0m \u001b[0;32mas\u001b[0m \u001b[0mplt\u001b[0m\u001b[0;34m\u001b[0m\u001b[0;34m\u001b[0m\u001b[0m\n\u001b[1;32m      2\u001b[0m \u001b[0;34m\u001b[0m\u001b[0m\n\u001b[0;32m----> 3\u001b[0;31m \u001b[0macc\u001b[0m \u001b[0;34m=\u001b[0m \u001b[0mhistory\u001b[0m\u001b[0;34m.\u001b[0m\u001b[0mhistory\u001b[0m\u001b[0;34m[\u001b[0m\u001b[0;34m'acc'\u001b[0m\u001b[0;34m]\u001b[0m\u001b[0;34m\u001b[0m\u001b[0;34m\u001b[0m\u001b[0m\n\u001b[0m\u001b[1;32m      4\u001b[0m \u001b[0mval_acc\u001b[0m \u001b[0;34m=\u001b[0m \u001b[0mhistory\u001b[0m\u001b[0;34m.\u001b[0m\u001b[0mhistory\u001b[0m\u001b[0;34m[\u001b[0m\u001b[0;34m'val_acc'\u001b[0m\u001b[0;34m]\u001b[0m\u001b[0;34m\u001b[0m\u001b[0;34m\u001b[0m\u001b[0m\n\u001b[1;32m      5\u001b[0m \u001b[0mloss\u001b[0m \u001b[0;34m=\u001b[0m \u001b[0mhistory\u001b[0m\u001b[0;34m.\u001b[0m\u001b[0mhistory\u001b[0m\u001b[0;34m[\u001b[0m\u001b[0;34m'loss'\u001b[0m\u001b[0;34m]\u001b[0m\u001b[0;34m\u001b[0m\u001b[0;34m\u001b[0m\u001b[0m\n",
      "\u001b[0;31mNameError\u001b[0m: name 'history' is not defined"
     ]
    }
   ],
   "source": [
    "import matplotlib.pyplot as plt\n",
    "\n",
    "acc = history.history['acc']\n",
    "val_acc = history.history['val_acc']\n",
    "loss = history.history['loss']\n",
    "val_loss = history.history['val_loss']\n",
    "\n",
    "epochs = range(1, len(acc)+1)\n",
    "\n",
    "plt.plot(epochs, acc, 'bo', label='Training accuracy')\n",
    "plt.plot(epochs, val_acc, 'b', label=\"Validation accuracy\")\n",
    "plt.title('Training and Validation accuracy')\n",
    "plt.legend()\n",
    "\n",
    "plt.figure()\n",
    "\n",
    "plt.plot(epochs, loss, 'bo', label='Training loss')\n",
    "plt.plot(epochs, val_loss, 'b', label=\"Validation loss\")\n",
    "plt.title('Training and Validation loss')\n",
    "plt.legend()\n",
    "\n",
    "plt.show()"
   ]
  },
  {
   "cell_type": "code",
   "execution_count": null,
   "id": "beneficial-church",
   "metadata": {},
   "outputs": [],
   "source": []
  }
 ],
 "metadata": {
  "kernelspec": {
   "display_name": "deeplearning",
   "language": "python",
   "name": "deeplearning"
  },
  "language_info": {
   "codemirror_mode": {
    "name": "ipython",
    "version": 3
   },
   "file_extension": ".py",
   "mimetype": "text/x-python",
   "name": "python",
   "nbconvert_exporter": "python",
   "pygments_lexer": "ipython3",
   "version": "3.7.9"
  }
 },
 "nbformat": 4,
 "nbformat_minor": 5
}
