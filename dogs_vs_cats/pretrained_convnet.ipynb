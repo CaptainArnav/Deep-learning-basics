{
 "cells": [
  {
   "cell_type": "code",
   "execution_count": 1,
   "id": "caring-mason",
   "metadata": {},
   "outputs": [],
   "source": [
    "import tensorflow as tf\n",
    "physical_devices = tf.config.experimental.list_physical_devices('GPU')\n",
    "tf.config.experimental.set_memory_growth(physical_devices[0], True)"
   ]
  },
  {
   "cell_type": "code",
   "execution_count": 2,
   "id": "removable-summer",
   "metadata": {},
   "outputs": [],
   "source": [
    "from keras.applications import VGG16\n",
    "\n",
    "conv_base = VGG16(weights='imagenet',\n",
    "                 include_top=False,\n",
    "                 input_shape=(100, 100, 3))"
   ]
  },
  {
   "cell_type": "code",
   "execution_count": 8,
   "id": "equivalent-conducting",
   "metadata": {},
   "outputs": [],
   "source": [
    "import os\n",
    "import numpy as np\n",
    "from keras.preprocessing.image import ImageDataGenerator\n",
    "\n",
    "base_dir = '/home/arnav/anaconda3/envs/deeplearning/Getting started with deep learning/dogs_vs_cats/dataset'\n",
    "\n",
    "train_dir = os.path.join(base_dir, 'train')\n",
    "test_dir = os.path.join(base_dir, 'test')\n",
    "validation_dir = os.path.join(base_dir, 'validation')\n",
    "\n",
    "datagen = ImageDataGenerator(rescale=1/255)\n",
    "batch_size=8\n",
    "\n",
    "def extract_features(dir, sample_count) :\n",
    "    features = np.zeros(shape=(sample_count, 3, 3, 512))\n",
    "    labels = np.zeros(shape=(sample_count))\n",
    "    \n",
    "    generator = datagen.flow_from_directory(\n",
    "    dir,\n",
    "    target_size = (100, 100),\n",
    "    batch_size = batch_size,\n",
    "    class_mode='binary')\n",
    "    \n",
    "    i=0\n",
    "    for inputs_batch, labels_batch in generator :\n",
    "        features_batch = conv_base.predict(inputs_batch)\n",
    "        features[i*batch_size : (i+1)*batch_size] = features_batch\n",
    "        labels[i*batch_size : (i+1)*batch_size] = labels_batch\n",
    "        i+=1\n",
    "        if i*batch_size >= sample_count :\n",
    "            break\n",
    "    return features, labels"
   ]
  },
  {
   "cell_type": "code",
   "execution_count": 9,
   "id": "right-muslim",
   "metadata": {},
   "outputs": [
    {
     "name": "stdout",
     "output_type": "stream",
     "text": [
      "Found 2000 images belonging to 2 classes.\n",
      "Found 1000 images belonging to 2 classes.\n",
      "Found 1000 images belonging to 2 classes.\n"
     ]
    }
   ],
   "source": [
    "train_features, train_labels = extract_features(train_dir, 2000)\n",
    "validation_features, validation_labels = extract_features(validation_dir, 1000)\n",
    "test_features, test_labels = extract_features(test_dir, 1000)"
   ]
  },
  {
   "cell_type": "code",
   "execution_count": 10,
   "id": "aerial-syndication",
   "metadata": {},
   "outputs": [],
   "source": [
    "train_features = np.reshape(train_features, (2000, 3*3*512))\n",
    "validation_features = np.reshape(validation_features, (1000, 3*3*512))\n",
    "test_features = np.reshape(test_features, (1000, 3*3*512))"
   ]
  },
  {
   "cell_type": "code",
   "execution_count": 15,
   "id": "occupied-material",
   "metadata": {},
   "outputs": [],
   "source": [
    "from keras import models, layers, optimizers\n",
    "\n",
    "model = models.Sequential()\n",
    "model.add(layers.Dense(256, activation='relu', input_dim=3*3*512))\n",
    "model.add(layers.Dropout(0.5))\n",
    "model.add(layers.Dense(1, activation='sigmoid'))\n",
    "\n",
    "model.compile(optimizer=optimizers.RMSprop(lr=2e-5),\n",
    "              loss='binary_crossentropy',\n",
    "              metrics=['acc'])"
   ]
  },
  {
   "cell_type": "code",
   "execution_count": 16,
   "id": "graduate-hungary",
   "metadata": {},
   "outputs": [
    {
     "name": "stdout",
     "output_type": "stream",
     "text": [
      "Epoch 1/30\n",
      "100/100 [==============================] - 0s 5ms/step - loss: 0.6877 - acc: 0.6055 - val_loss: 0.5233 - val_acc: 0.7680\n",
      "Epoch 2/30\n",
      "100/100 [==============================] - 0s 4ms/step - loss: 0.5297 - acc: 0.7365 - val_loss: 0.4568 - val_acc: 0.7950\n",
      "Epoch 3/30\n",
      "100/100 [==============================] - 0s 4ms/step - loss: 0.4743 - acc: 0.7740 - val_loss: 0.4268 - val_acc: 0.8130\n",
      "Epoch 4/30\n",
      "100/100 [==============================] - 0s 4ms/step - loss: 0.4370 - acc: 0.7960 - val_loss: 0.4164 - val_acc: 0.8100\n",
      "Epoch 5/30\n",
      "100/100 [==============================] - 1s 7ms/step - loss: 0.3918 - acc: 0.8280 - val_loss: 0.3947 - val_acc: 0.8180\n",
      "Epoch 6/30\n",
      "100/100 [==============================] - 1s 8ms/step - loss: 0.3873 - acc: 0.8250 - val_loss: 0.3887 - val_acc: 0.8210\n",
      "Epoch 7/30\n",
      "100/100 [==============================] - 1s 6ms/step - loss: 0.3637 - acc: 0.8435 - val_loss: 0.3777 - val_acc: 0.8260\n",
      "Epoch 8/30\n",
      "100/100 [==============================] - 1s 9ms/step - loss: 0.3493 - acc: 0.8515 - val_loss: 0.3863 - val_acc: 0.8250\n",
      "Epoch 9/30\n",
      "100/100 [==============================] - 1s 9ms/step - loss: 0.3449 - acc: 0.8470 - val_loss: 0.3680 - val_acc: 0.8300\n",
      "Epoch 10/30\n",
      "100/100 [==============================] - 1s 9ms/step - loss: 0.3288 - acc: 0.8590 - val_loss: 0.3646 - val_acc: 0.8330\n",
      "Epoch 11/30\n",
      "100/100 [==============================] - 1s 9ms/step - loss: 0.3100 - acc: 0.8710 - val_loss: 0.3665 - val_acc: 0.8310\n",
      "Epoch 12/30\n",
      "100/100 [==============================] - 1s 9ms/step - loss: 0.3049 - acc: 0.8730 - val_loss: 0.3595 - val_acc: 0.8240\n",
      "Epoch 13/30\n",
      "100/100 [==============================] - 1s 10ms/step - loss: 0.2972 - acc: 0.8760 - val_loss: 0.3570 - val_acc: 0.8330\n",
      "Epoch 14/30\n",
      "100/100 [==============================] - 1s 8ms/step - loss: 0.2916 - acc: 0.8830 - val_loss: 0.3566 - val_acc: 0.8380\n",
      "Epoch 15/30\n",
      "100/100 [==============================] - 1s 9ms/step - loss: 0.2879 - acc: 0.8870 - val_loss: 0.3569 - val_acc: 0.8400\n",
      "Epoch 16/30\n",
      "100/100 [==============================] - 1s 10ms/step - loss: 0.2830 - acc: 0.8865 - val_loss: 0.3529 - val_acc: 0.8280\n",
      "Epoch 17/30\n",
      "100/100 [==============================] - 0s 5ms/step - loss: 0.2646 - acc: 0.8930 - val_loss: 0.3666 - val_acc: 0.8350\n",
      "Epoch 18/30\n",
      "100/100 [==============================] - 1s 9ms/step - loss: 0.2641 - acc: 0.8945 - val_loss: 0.3501 - val_acc: 0.8320\n",
      "Epoch 19/30\n",
      "100/100 [==============================] - 1s 8ms/step - loss: 0.2582 - acc: 0.8985 - val_loss: 0.3492 - val_acc: 0.8370\n",
      "Epoch 20/30\n",
      "100/100 [==============================] - 1s 10ms/step - loss: 0.2563 - acc: 0.8945 - val_loss: 0.3514 - val_acc: 0.8430\n",
      "Epoch 21/30\n",
      "100/100 [==============================] - 1s 10ms/step - loss: 0.2476 - acc: 0.9040 - val_loss: 0.3589 - val_acc: 0.8360\n",
      "Epoch 22/30\n",
      "100/100 [==============================] - 1s 7ms/step - loss: 0.2437 - acc: 0.9025 - val_loss: 0.3481 - val_acc: 0.8380\n",
      "Epoch 23/30\n",
      "100/100 [==============================] - 1s 8ms/step - loss: 0.2407 - acc: 0.9000 - val_loss: 0.3467 - val_acc: 0.8400\n",
      "Epoch 24/30\n",
      "100/100 [==============================] - 0s 4ms/step - loss: 0.2377 - acc: 0.9055 - val_loss: 0.3453 - val_acc: 0.8390\n",
      "Epoch 25/30\n",
      "100/100 [==============================] - 1s 8ms/step - loss: 0.2380 - acc: 0.9030 - val_loss: 0.3464 - val_acc: 0.8400\n",
      "Epoch 26/30\n",
      "100/100 [==============================] - 1s 6ms/step - loss: 0.2302 - acc: 0.9050 - val_loss: 0.3456 - val_acc: 0.8390\n",
      "Epoch 27/30\n",
      "100/100 [==============================] - 1s 9ms/step - loss: 0.2185 - acc: 0.9155 - val_loss: 0.3566 - val_acc: 0.8380\n",
      "Epoch 28/30\n",
      "100/100 [==============================] - 1s 8ms/step - loss: 0.2195 - acc: 0.9160 - val_loss: 0.3490 - val_acc: 0.8350\n",
      "Epoch 29/30\n",
      "100/100 [==============================] - 0s 4ms/step - loss: 0.2142 - acc: 0.9175 - val_loss: 0.3426 - val_acc: 0.8420\n",
      "Epoch 30/30\n",
      "100/100 [==============================] - 1s 8ms/step - loss: 0.2079 - acc: 0.9220 - val_loss: 0.3422 - val_acc: 0.8440\n"
     ]
    }
   ],
   "source": [
    "history = model.fit(train_features, train_labels,\n",
    "                   epochs=30,\n",
    "                   batch_size=20,\n",
    "                   validation_data=(validation_features, validation_labels))"
   ]
  },
  {
   "cell_type": "code",
   "execution_count": 17,
   "id": "protecting-found",
   "metadata": {},
   "outputs": [],
   "source": [
    "model.save('cats_and_dogs_small_3.h5')"
   ]
  },
  {
   "cell_type": "code",
   "execution_count": 18,
   "id": "derived-berkeley",
   "metadata": {},
   "outputs": [
    {
     "data": {
      "image/png": "[encoded data removed]",
      "text/plain": [
       "<Figure size 432x288 with 1 Axes>"
      ]
     },
     "metadata": {
      "needs_background": "light"
     },
     "output_type": "display_data"
    },
    {
     "data": {
      "image/png": "[encoded data removed]",
      "text/plain": [
       "<Figure size 432x288 with 1 Axes>"
      ]
     },
     "metadata": {
      "needs_background": "light"
     },
     "output_type": "display_data"
    }
   ],
   "source": [
    "import matplotlib.pyplot as plt\n",
    "\n",
    "acc = history.history['acc']\n",
    "val_acc = history.history['val_acc']\n",
    "loss = history.history['loss']\n",
    "val_loss = history.history['val_loss']\n",
    "\n",
    "epochs = range(1, len(acc)+1)\n",
    "\n",
    "plt.plot(epochs, acc, 'bo', label='Training accuracy')\n",
    "plt.plot(epochs, val_acc, 'b', label=\"Validation accuracy\")\n",
    "plt.title('Training and Validation accuracy')\n",
    "plt.legend()\n",
    "\n",
    "plt.figure()\n",
    "\n",
    "plt.plot(epochs, loss, 'bo', label='Training loss')\n",
    "plt.plot(epochs, val_loss, 'b', label=\"Validation loss\")\n",
    "plt.title('Training and Validation loss')\n",
    "plt.legend()\n",
    "\n",
    "plt.show()"
   ]
  }
 ],
 "metadata": {
  "kernelspec": {
   "display_name": "deeplearning",
   "language": "python",
   "name": "deeplearning"
  },
  "language_info": {
   "codemirror_mode": {
    "name": "ipython",
    "version": 3
   },
   "file_extension": ".py",
   "mimetype": "text/x-python",
   "name": "python",
   "nbconvert_exporter": "python",
   "pygments_lexer": "ipython3",
   "version": "3.7.9"
  }
 },
 "nbformat": 4,
 "nbformat_minor": 5
}
