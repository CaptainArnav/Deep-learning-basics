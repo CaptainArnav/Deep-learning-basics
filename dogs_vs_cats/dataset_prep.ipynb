{
 "cells": [
  {
   "cell_type": "code",
   "execution_count": 12,
   "id": "rapid-seating",
   "metadata": {},
   "outputs": [],
   "source": [
    "import os, shutil"
   ]
  },
  {
   "cell_type": "code",
   "execution_count": 13,
   "id": "frozen-device",
   "metadata": {},
   "outputs": [],
   "source": [
    "original_train_dataset_dir = '/home/arnav/Downloads/dogs_vs_cats/train/train'\n",
    "original_test_dataset_dir = '/home/arnav/Downloads/dogs_vs_cats/test/test'\n",
    "\n",
    "base_dir = '/home/arnav/anaconda3/envs/deeplearning/Getting started with deep learning/dogs_vs_cats/dataset'\n",
    "os.mkdir(base_dir)"
   ]
  },
  {
   "cell_type": "code",
   "execution_count": 14,
   "id": "presidential-skiing",
   "metadata": {},
   "outputs": [],
   "source": [
    "train_dir = os.path.join(base_dir, 'train')\n",
    "os.mkdir(train_dir)\n",
    "test_dir = os.path.join(base_dir, 'test')\n",
    "os.mkdir(test_dir)\n",
    "validation_dir = os.path.join(base_dir, 'validation')\n",
    "os.mkdir(validation_dir)"
   ]
  },
  {
   "cell_type": "code",
   "execution_count": 15,
   "id": "literary-muslim",
   "metadata": {},
   "outputs": [],
   "source": [
    "train_cats_dir = os.path.join(train_dir, 'cats')\n",
    "os.mkdir(train_cats_dir)\n",
    "train_dogs_dir = os.path.join(train_dir, 'dogs')\n",
    "os.mkdir(train_dogs_dir)\n",
    "\n",
    "test_cats_dir = os.path.join(test_dir, 'cats')\n",
    "os.mkdir(test_cats_dir)\n",
    "test_dogs_dir = os.path.join(test_dir, 'dogs')\n",
    "os.mkdir(test_dogs_dir)\n",
    "\n",
    "validation_cats_dir = os.path.join(validation_dir, 'cats')\n",
    "os.mkdir(validation_cats_dir)\n",
    "validation_dogs_dir = os.path.join(validation_dir, 'dogs')\n",
    "os.mkdir(validation_dogs_dir)"
   ]
  },
  {
   "cell_type": "code",
   "execution_count": 17,
   "id": "enabling-fleece",
   "metadata": {},
   "outputs": [],
   "source": [
    "fnames = [f'cat.{i}.jpg' for i in range(1000)]\n",
    "for fname in fnames :\n",
    "    src = os.path.join(original_train_dataset_dir, fname)\n",
    "    dst = os.path.join(train_cats_dir, fname)\n",
    "    shutil.copyfile(src, dst)\n",
    "    \n",
    "fnames = [f'cat.{i}.jpg' for i in range(1000, 1500)]\n",
    "for fname in fnames :\n",
    "    src = os.path.join(original_train_dataset_dir, fname)\n",
    "    dst = os.path.join(test_cats_dir, fname)\n",
    "    shutil.copyfile(src, dst)\n",
    "\n",
    "fnames = [f'cat.{i}.jpg' for i in range(1500, 2000)]\n",
    "for fname in fnames :\n",
    "    src = os.path.join(original_train_dataset_dir, fname)\n",
    "    dst = os.path.join(validation_cats_dir, fname)\n",
    "    shutil.copyfile(src, dst)"
   ]
  },
  {
   "cell_type": "code",
   "execution_count": 18,
   "id": "brief-animation",
   "metadata": {},
   "outputs": [],
   "source": [
    "fnames = [f'dog.{i}.jpg' for i in range(1000)]\n",
    "for fname in fnames :\n",
    "    src = os.path.join(original_train_dataset_dir, fname)\n",
    "    dst = os.path.join(train_dogs_dir, fname)\n",
    "    shutil.copyfile(src, dst)\n",
    "    \n",
    "fnames = [f'dog.{i}.jpg' for i in range(1000, 1500)]\n",
    "for fname in fnames :\n",
    "    src = os.path.join(original_train_dataset_dir, fname)\n",
    "    dst = os.path.join(test_dogs_dir, fname)\n",
    "    shutil.copyfile(src, dst)\n",
    "\n",
    "fnames = [f'dog.{i}.jpg' for i in range(1500, 2000)]\n",
    "for fname in fnames :\n",
    "    src = os.path.join(original_train_dataset_dir, fname)\n",
    "    dst = os.path.join(validation_dogs_dir, fname)\n",
    "    shutil.copyfile(src, dst)"
   ]
  }
 ],
 "metadata": {
  "kernelspec": {
   "display_name": "deeplearning",
   "language": "python",
   "name": "deeplearning"
  },
  "language_info": {
   "codemirror_mode": {
    "name": "ipython",
    "version": 3
   },
   "file_extension": ".py",
   "mimetype": "text/x-python",
   "name": "python",
   "nbconvert_exporter": "python",
   "pygments_lexer": "ipython3",
   "version": "3.7.9"
  }
 },
 "nbformat": 4,
 "nbformat_minor": 5
}
